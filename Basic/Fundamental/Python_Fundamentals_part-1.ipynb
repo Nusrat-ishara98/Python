{
  "nbformat": 4,
  "nbformat_minor": 0,
  "metadata": {
    "colab": {
      "provenance": []
    },
    "kernelspec": {
      "name": "python3",
      "display_name": "Python 3"
    },
    "language_info": {
      "name": "python"
    }
  },
  "cells": [
    {
      "cell_type": "markdown",
      "source": [
        "### 1. Python Output"
      ],
      "metadata": {
        "id": "M4A8930nX-EX"
      }
    },
    {
      "cell_type": "code",
      "source": [
        "from google.colab import drive\n",
        "drive.mount('/content/drive')"
      ],
      "metadata": {
        "colab": {
          "base_uri": "https://localhost:8080/"
        },
        "id": "0HTdj6ZofFR8",
        "outputId": "aa483e25-fca9-4a76-dcaa-b360973a6a29"
      },
      "execution_count": 10,
      "outputs": [
        {
          "output_type": "stream",
          "name": "stdout",
          "text": [
            "Drive already mounted at /content/drive; to attempt to forcibly remount, call drive.mount(\"/content/drive\", force_remount=True).\n"
          ]
        }
      ]
    },
    {
      "cell_type": "markdown",
      "source": [
        "# **Python fundamentals**\n",
        "\n",
        "1. **Python design philosophy**.--> Good design, simple, elegant, easy to use.\n",
        "\n",
        "2. **Batteries included**. --> additional things like oparator and funtion are build in . Example: reverse program write one line not create loop.\n",
        "\n",
        "3. **General purpose** --> Python support a lot of programming paradise. Example: oop, funtional programming, any kind of software which is bulid (destop base application: google crome, data seicence, website : facebook) using just python.\n",
        "\n",
        "4. **Libraries/ community** -->  Python is special for large/awesome community. This community launch new type of libraries. python is popular in data science because python has so many librabries. Example : Tenserflow, pandas.\n",
        "\n",
        "\n",
        "# **Why python for data science**:\n",
        "\n",
        "1. **Easy to learn**. --> Other domain's student and researcher are not good to know coding so always they find to learn easy language to learn easily.\n",
        "\n",
        "2. **Proximity with math** -->  python has math domain. That's why data sciencetist choose python.\n",
        "\n",
        "3. **Community**: Python is special for large/awesome community/ eco- system. Lots of people use python that's why many source are available in online.\n",
        "\n",
        "\n",
        "\n",
        "\n",
        "\n",
        "\n"
      ],
      "metadata": {
        "id": "ovbKF5XWgJKC"
      }
    },
    {
      "cell_type": "markdown",
      "source": [
        "**Python is slow** but if you use smartly like memorization or other techniques, then you do not feel slow.\n",
        "\n",
        "C, C++ are  faster than python.\n",
        "\n",
        "**NUMPY** has a array data type  which is build in C and these data type are so much fast.\n",
        "\n",
        "\n"
      ],
      "metadata": {
        "id": "4DNwUKkDpiSf"
      }
    },
    {
      "cell_type": "markdown",
      "source": [
        "X() --> this is function. \n",
        "\n",
        "print()  --> this is a print function."
      ],
      "metadata": {
        "id": "6IWCJHbwffVp"
      }
    },
    {
      "cell_type": "markdown",
      "source": [
        "# 1. Python Output"
      ],
      "metadata": {
        "id": "seIZr6QZwBRd"
      }
    },
    {
      "cell_type": "code",
      "source": [
        "# python is a case sensitive language.\n",
        "print('Hello world')"
      ],
      "metadata": {
        "colab": {
          "base_uri": "https://localhost:8080/"
        },
        "id": "1xY7PN1VfWfN",
        "outputId": "e99eaa53-78b2-49d6-bce6-20bc39a94ffe"
      },
      "execution_count": null,
      "outputs": [
        {
          "output_type": "stream",
          "name": "stdout",
          "text": [
            "Hello world\n"
          ]
        }
      ]
    },
    {
      "cell_type": "code",
      "source": [
        "# Enter the value : int number\n",
        "print( 'Enter the value : int number : ', 7 ,'\\n' )\n",
        "\n",
        "# Enter the value : float number \n",
        "print( 'Enter the value : float number :', 7.7 ,'\\n' )\n",
        "\n",
        "# Enter the value : boolean \n",
        "print( 'Enter the value : boolean :', True ,'\\n' )\n",
        "print('Enter the value : boolean :', False ,'\\n' )\n",
        "\n",
        "#  How to print Multiple value  print \n",
        "print( 'How to print Multiple value  print --> ', 'Hello',1,4.5,True ,'\\n' )\n",
        "\n",
        "#  How to print Multiple value  print and add separation  \n",
        "print( 'How to print Multiple value  print and add separation -->' , 'Hello',1,4.5,True, False,7.7 ,'\\n' , sep = '__')\n",
        "\n",
        "#  How to print Multiple value  print and add end funtion\n",
        "print( 'How to print Multiple value  print and add separation -->' ,  'Hello',  1, 4.5, True, False,7.7 ,'\\n',end= '\\n'  )\n",
        "\n",
        "# end =''"
      ],
      "metadata": {
        "colab": {
          "base_uri": "https://localhost:8080/"
        },
        "id": "B9asoEyd-2Er",
        "outputId": "1b7fbad6-019a-40f2-fe05-51f3bfab06fb"
      },
      "execution_count": null,
      "outputs": [
        {
          "output_type": "stream",
          "name": "stdout",
          "text": [
            "Enter the value : int number :  7 \n",
            "\n",
            "Enter the value : float number : 7.7 \n",
            "\n",
            "Enter the value : boolean : True \n",
            "\n",
            "Enter the value : boolean : False \n",
            "\n",
            "How to print Multiple value  print -->  Hello 1 4.5 True \n",
            "\n",
            "How to print Multiple value  print and add separation -->__Hello__1__4.5__True__False__7.7__\n",
            "\n",
            "How to print Multiple value  print and add separation --> Hello 1 4.5 True False 7.7 \n",
            "\n"
          ]
        }
      ]
    },
    {
      "cell_type": "code",
      "source": [
        "# Type is declared what kind of datatypes we print  \n",
        "print(type(3))"
      ],
      "metadata": {
        "colab": {
          "base_uri": "https://localhost:8080/"
        },
        "id": "OvYR1F9TrqHw",
        "outputId": "0722adb4-09e8-484c-b747-bbbfdbb3ac79"
      },
      "execution_count": null,
      "outputs": [
        {
          "output_type": "stream",
          "name": "stdout",
          "text": [
            "<class 'int'>\n"
          ]
        }
      ]
    },
    {
      "cell_type": "code",
      "source": [
        "# Integer\n",
        "print(8)\n",
        "# 1*10^308\n",
        "print(1e308)\n",
        "# python is not calculate it.\n",
        "print(1e309)"
      ],
      "metadata": {
        "colab": {
          "base_uri": "https://localhost:8080/"
        },
        "id": "hFF9B2jnMbPy",
        "outputId": "eda7b523-12b3-47f0-eb31-7d6ee69f9318"
      },
      "execution_count": null,
      "outputs": [
        {
          "output_type": "stream",
          "name": "stdout",
          "text": [
            "8\n",
            "1e+308\n",
            "inf\n"
          ]
        }
      ]
    },
    {
      "cell_type": "code",
      "source": [
        "# Decimal/Float\n",
        "print(8.55)\n",
        "print(1.7e308)\n",
        "# python is not calculate it.\n",
        "print(1.7e309)\n"
      ],
      "metadata": {
        "colab": {
          "base_uri": "https://localhost:8080/"
        },
        "id": "HnKGUrbyRcXh",
        "outputId": "622b3073-4fb2-4991-c428-a001471b1de6"
      },
      "execution_count": null,
      "outputs": [
        {
          "output_type": "stream",
          "name": "stdout",
          "text": [
            "8.55\n",
            "1.7e+308\n",
            "inf\n"
          ]
        }
      ]
    },
    {
      "cell_type": "code",
      "source": [
        "# complex\n",
        "print(5+6j)\n",
        "print(3+ 5j)"
      ],
      "metadata": {
        "colab": {
          "base_uri": "https://localhost:8080/"
        },
        "id": "xfKoeeViR3lL",
        "outputId": "9b1e8159-5395-42b7-c07c-281dd8cf47fb"
      },
      "execution_count": null,
      "outputs": [
        {
          "output_type": "stream",
          "name": "stdout",
          "text": [
            "(5+6j)\n",
            "(3+5j)\n"
          ]
        }
      ]
    },
    {
      "cell_type": "code",
      "source": [
        "# List-> C-> Array----------------\n",
        "\n",
        "a = [1, 2, 3, 4, 5 ]\n",
        "print(type(a))\n",
        "print(a,'\\n','\\n')\n",
        "\n",
        "# Tuple---------------------------------\n",
        "\n",
        "b = (1,2,3,4,5)\n",
        "print(type(b))\n",
        "print(b,'\\n','\\n')\n",
        "\n",
        "# Sets---------------------------------\n",
        "\n",
        "c = {1,2,3,4,5}\n",
        "print(type(c))\n",
        "print(c,'\\n','\\n')\n",
        "\n",
        "print('Dictionary-----------------------------')\n",
        "# dictionary is always inside in curly bracket.\n",
        "\n",
        "d = {'name' : 'ishara', 'gender' : 'female', 'weight' : 50}\n",
        "print(type(d))\n",
        "print(d ,'\\n','\\n')\n"
      ],
      "metadata": {
        "colab": {
          "base_uri": "https://localhost:8080/"
        },
        "id": "8duq-3AJRj8_",
        "outputId": "63cd9913-1f67-4a2b-cdb9-0efe6716dbdd"
      },
      "execution_count": null,
      "outputs": [
        {
          "output_type": "stream",
          "name": "stdout",
          "text": [
            "<class 'list'>\n",
            "[1, 2, 3, 4, 5] \n",
            " \n",
            "\n",
            "<class 'tuple'>\n",
            "(1, 2, 3, 4, 5) \n",
            " \n",
            "\n",
            "<class 'set'>\n",
            "{1, 2, 3, 4, 5} \n",
            " \n",
            "\n",
            "<class 'dict'>\n",
            "{'name': 'ishara', 'gender': 'female', 'weight': 50} \n",
            " \n",
            "\n"
          ]
        }
      ]
    },
    {
      "cell_type": "markdown",
      "source": [
        "**Variable:** \n",
        "1. Basicaly containers.\n",
        "2. It contain for future use.\n",
        "\n",
        "**Ex:**  int    Name   = 'ishu'\n",
        "\n",
        "\n",
        "int: -\" variable type integer \"   \n",
        "\n",
        "Name: -\" variable   contain value\"\n",
        "\n",
        "'ishu': - \"  contain value\"\n",
        "\n",
        "**Python is intelligent enough to automaticlly understand data type. It is also intelligent other language like C, C++, Java.** \n",
        "\n",
        "Ex: name = 'ishu'\n",
        "\n",
        "print(name)\n",
        "\n",
        "\n"
      ],
      "metadata": {
        "id": "zmPhbKuMuI3m"
      }
    },
    {
      "cell_type": "code",
      "source": [
        "name = 'ishu'\n",
        "print(type(name))\n",
        "print(name)"
      ],
      "metadata": {
        "colab": {
          "base_uri": "https://localhost:8080/"
        },
        "id": "kRgT4vxt_JK3",
        "outputId": "4d789954-a811-4287-dda2-97acb7d026d3"
      },
      "execution_count": null,
      "outputs": [
        {
          "output_type": "stream",
          "name": "stdout",
          "text": [
            "<class 'str'>\n",
            "ishu\n"
          ]
        }
      ]
    },
    {
      "cell_type": "markdown",
      "source": [
        "**Python is an interpreted language**, which means the source code of a Python program is converted into bytecode line by line.\n",
        "\n",
        "\n",
        "**C or C++**, it can be directly compiled to give the executable code"
      ],
      "metadata": {
        "id": "sw78dLS5dJx1"
      }
    },
    {
      "cell_type": "markdown",
      "source": [
        "**Dynamic Typing :**   Where we don't tell about the variable. Python can Automatically understand what kind of variable. This is called **dynamic typing**  . This cause we say , python is a interlligent language in other language like C, C++, JAVA. \n",
        "\n",
        "\n",
        "**Static Typing :** When we declare  any variable with data type. Ex: C, C++, Java"
      ],
      "metadata": {
        "id": "EeB1XtcUDadx"
      }
    },
    {
      "cell_type": "markdown",
      "source": [
        "\n",
        "\n",
        "![difference-between-Dynamic-and-Static-typing.jpg](data:image/jpeg;base64,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)\n",
        "\n"
      ],
      "metadata": {
        "id": "iF2TRY55HBdL"
      }
    },
    {
      "cell_type": "code",
      "source": [
        "#Dynamic Typing----------------------\n",
        "a = 5 \n",
        "print(type(a))\n",
        "print(a,'\\n','\\n')\n",
        "\n",
        "#Static Typing --------------------\n",
        "#  int b  = 5\n",
        "#  print(type(b))\n",
        "#  print(b,'\\n','\\n')"
      ],
      "metadata": {
        "colab": {
          "base_uri": "https://localhost:8080/"
        },
        "id": "9twKbD41piPP",
        "outputId": "01489ac7-fd00-480e-f6ca-b24b2af1d756"
      },
      "execution_count": null,
      "outputs": [
        {
          "output_type": "stream",
          "name": "stdout",
          "text": [
            "<class 'int'>\n",
            "5 \n",
            " \n",
            "\n"
          ]
        }
      ]
    },
    {
      "cell_type": "markdown",
      "source": [
        "**Dynamic Binding ✅** First of all this was only possible because Python uses dynamic binding or late binding. We can reassign some other data type to an existing variable (means only a carry many data other memory address ). It will not \n",
        "produce an error.\n",
        "\n",
        "✨ Python's variable has not any fixed data type. It can change any time any where in the code.\n",
        "\n",
        "**Static Binding ✅** Static binding used in C, C++, java etc. we cannot reassign some other data type to an existing variable. It will produce an error."
      ],
      "metadata": {
        "id": "7pjubtIdxsBE"
      }
    },
    {
      "cell_type": "code",
      "source": [
        "print ('-----# Dynamic Binding #------')\n",
        "\n",
        "print ('-------------------------')\n",
        "a = 5 \n",
        "print(type(a))\n",
        "print(a)\n",
        "print ('Let us display the memory address, a is pointing to')\n",
        "print(id(a))\n",
        "\n",
        "\n",
        "print ('-------------------------')\n",
        "a ='Ishu'\n",
        "print(a)\n",
        "print(type(a))\n",
        "print ('Let us display the memory address, a is pointing to')\n",
        "print(id(a))\n",
        "\n",
        "print ('-------------------------')\n",
        "a ='Nusrat'\n",
        "print(a)\n",
        "print(type(a))\n",
        "print ('Let us display the memory address, a is pointing to')\n",
        "print(id(a))\n",
        "\n",
        "print ('-------------------------')\n",
        "a ='MUMU'\n",
        "print(a)\n",
        "print(type(a))\n",
        "print ('Let us display the memory address, a is pointing to')\n",
        "print(id(a))\n",
        "\n",
        "print ('-------------------------')"
      ],
      "metadata": {
        "colab": {
          "base_uri": "https://localhost:8080/"
        },
        "id": "F6QoxuOCqtfW",
        "outputId": "d5a08327-db16-47c2-df1a-562b5c9c859b"
      },
      "execution_count": null,
      "outputs": [
        {
          "output_type": "stream",
          "name": "stdout",
          "text": [
            "-----# Dynamic Binding #------\n",
            "-------------------------\n",
            "<class 'int'>\n",
            "5\n",
            "Let us display the memory address, a is pointing to\n",
            "11126816\n",
            "-------------------------\n",
            "Ishu\n",
            "<class 'str'>\n",
            "Let us display the memory address, a is pointing to\n",
            "139986427722160\n",
            "-------------------------\n",
            "Nusrat\n",
            "<class 'str'>\n",
            "Let us display the memory address, a is pointing to\n",
            "139986427720176\n",
            "-------------------------\n",
            "MUMU\n",
            "<class 'str'>\n",
            "Let us display the memory address, a is pointing to\n",
            "139986480782576\n",
            "-------------------------\n"
          ]
        }
      ]
    },
    {
      "cell_type": "markdown",
      "source": [
        " ▶ **Variable declare some Stylish techniques**"
      ],
      "metadata": {
        "id": "TQrWKXQRVB1X"
      }
    },
    {
      "cell_type": "code",
      "source": [
        "a, b, c = 1, 2, 34\n",
        "print(a,b,c)\n",
        "\n",
        "print('___________________________')\n",
        "\n",
        "print('SAME value assign ')\n",
        "\n",
        "a = b = c = 5\n",
        "print(a,b,c)"
      ],
      "metadata": {
        "colab": {
          "base_uri": "https://localhost:8080/"
        },
        "id": "YMH6QNHeVSjX",
        "outputId": "f5a09364-0dc4-4d0a-be33-f63e6ac01d57"
      },
      "execution_count": null,
      "outputs": [
        {
          "output_type": "stream",
          "name": "stdout",
          "text": [
            "1 2 34\n",
            "___________________________\n",
            "SAME value assign \n",
            "5 5 5\n"
          ]
        }
      ]
    },
    {
      "cell_type": "markdown",
      "source": [
        " ▶ **Difference between compiler and interpreter**\n",
        "\n",
        "**Compiler:**\n",
        "1. It translate the entire source code in a single run.\n",
        "2. it consumes less time.\n",
        "3. It takes the entier program in one go.\n",
        "4. It best used for the prodution environment.\n",
        "5. It is used by prigramming languages such as C, C++, C#, Java.\n",
        "6. Its memory requirement is more.\n",
        "7. much harder to find mistakes and trace errors.\n",
        "\n",
        "**Interpreter :**\n",
        "1. It translates entire source code line by line.\n",
        "2. It comsumes more time. \n",
        "3. It takes a single lone of code at a time.\n",
        "4. It is best used for Software develpment environment.\n",
        "5. It is used  by programming language such as Python, PHP, Ruby.\n",
        "6. Its memory requirement is less than compliers.\n",
        "7. much easier to trace bugs and identify errors."
      ],
      "metadata": {
        "id": "ivRUdDlobnXe"
      }
    }
  ]
}